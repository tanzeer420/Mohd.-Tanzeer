{
 "cells": [
  {
   "cell_type": "markdown",
   "id": "9481c6d8",
   "metadata": {},
   "source": [
    "# Example 1.1- Function in python to read the text file and replace specific content of the file"
   ]
  },
  {
   "cell_type": "code",
   "execution_count": 176,
   "id": "b1d46fd0",
   "metadata": {},
   "outputs": [],
   "source": [
    "# Path of the file with file name\n",
    "f_path = r'C:/Users/Sameer/Desktop/files_new/example.txt'\n",
    "\n",
    "# Word need to be replace\n",
    "w_replace= 'placement'\n",
    "\n",
    "#  Word to be substituted\n",
    "substitute_word = 'screening'\n",
    "\n",
    "# create_file function that create the file if not exist and write the content in it.\n",
    "def create_file(f_path):\n",
    "    file=open(f_path,'w')\n",
    "    file.write('This is a placement assignment')\n",
    "    file.close()\n",
    "\n",
    "\n",
    "# Update_file function open and read the file and edit the content of the file like replacing the word 'placement' with 'screening'\n",
    "def update_file(filename, w_replace, substituteword):\n",
    "    with open(f_path, 'rt') as f:\n",
    "        data = f.read()\n",
    "        data = data.replace(w_replace,substitute_word)\n",
    "        \n",
    "    with open(f_path, 'wt') as f:\n",
    "        f.write(data)\n",
    "        \n",
    "# Calling create_file function        \n",
    "create_file(f_path)\n",
    "\n",
    "# Calling update_file function\n",
    "update_file(f_path, w_replace, substitute_word)"
   ]
  },
  {
   "cell_type": "markdown",
   "id": "9250a8e0",
   "metadata": {},
   "source": [
    "# Example 2.1- using abstract method"
   ]
  },
  {
   "cell_type": "code",
   "execution_count": 177,
   "id": "320047a7",
   "metadata": {},
   "outputs": [
    {
     "name": "stdout",
     "output_type": "stream",
     "text": [
      "RAM=6 MEMORY=128 PRICE=16500\n",
      "SIZE=6.43\n",
      "RAM=4 MEMORY=64 PRICE=13499\n",
      "SIZE=6.23\n",
      "RAM=4 MEMORY=64 PRICE=27999\n",
      "SIZE=5.81\n"
     ]
    }
   ],
   "source": [
    "from abc import ABC, abstractmethod\n",
    "\n",
    "# Abstract class having one abstract method properties\n",
    "class mobile():\n",
    "    def properties(self):\n",
    "        pass\n",
    "\n",
    "# Child class redmi_11S inheriting abstract method of mobile class\n",
    "class redmi_11S(mobile):\n",
    "    def properties(self):\n",
    "        print(\"RAM=6\", \"MEMORY=128\", \"PRICE=16500\")\n",
    "        print(\"SIZE=6.43\")\n",
    "\n",
    "# Child class samsung_On8 abstract method of mobile class\n",
    "class samsung_On8(mobile):\n",
    "    def properties(self):\n",
    "        print(\"RAM=4\", \"MEMORY=64\", \"PRICE=13499\")\n",
    "        print(\"SIZE=6.23\")\n",
    "\n",
    "# Child class googlepixele_4a abstract method of mobile class\n",
    "class googlepixele_4a(mobile):\n",
    "    def properties(self):\n",
    "        print(\"RAM=4\", \"MEMORY=64\", \"PRICE=27999\")\n",
    "        print(\"SIZE=5.81\")\n",
    "    \n",
    "\n",
    "# creating object of redmi_11S class\n",
    "r=redmi_11S()\n",
    "r.properties()\n",
    "\n",
    "# creating object of samsung_On8 class\n",
    "s=samsung_On8()\n",
    "s.properties()\n",
    "\n",
    "# creating object of googlepixele_4a class\n",
    "g=googlepixele_4a()\n",
    "g.properties()"
   ]
  },
  {
   "cell_type": "markdown",
   "id": "0706294a",
   "metadata": {},
   "source": [
    "# Example 2.2- using abstract method and multiple inheritance"
   ]
  },
  {
   "cell_type": "code",
   "execution_count": 178,
   "id": "7b5c3fc7",
   "metadata": {},
   "outputs": [
    {
     "name": "stdout",
     "output_type": "stream",
     "text": [
      "Simple Interest of SBI bank on Rs.4000 is Rs.40.0\n",
      "Maintenance fee for SBI bank is Rs.100\n",
      "Simple Interest of ICICI bank on Rs.2000 is Rs.36.0\n",
      "Maintenance fee for ICICI bank is Rs.150\n",
      "Simple Interest of HDFC bank on Rs.5000 is Rs.30.0\n",
      "Maintenance fee for HDFC bank is Rs.200\n",
      "Simple Interest of OVERSEAS bank on Rs.8000 is Rs.80.0\n",
      "Maintenance fee for OVERSEAS bank is Rs.250\n"
     ]
    }
   ],
   "source": [
    "from abc import ABC, abstractmethod\n",
    "\n",
    "# Parent class having method maintainence_fee\n",
    "class bank():\n",
    "    \n",
    "    def maintainence_fee(self,b_name):\n",
    "        if b_name == 'SBI':\n",
    "            m_fee = 100\n",
    "        elif b_name == 'ICICI':\n",
    "            m_fee = 150\n",
    "        elif b_name == 'HDFC':\n",
    "            m_fee = 200\n",
    "        else:\n",
    "            m_fee = 250\n",
    "        print('Maintenance fee for {} bank is Rs.{}'.format(b_name,m_fee))\n",
    "\n",
    "# abstract class having one abstract method interest\n",
    "class rbi(ABC):\n",
    "    \n",
    "    # abstract method     \n",
    "    def interest(self):\n",
    "        pass\n",
    "\n",
    "# Child class sbi inheriting methods of Parent class bank and abstract class rbi\n",
    "class sbi(rbi,bank):\n",
    "    \n",
    "    def interest(self,amount,rate,time):\n",
    "        S_I = (amount*rate*time)/100\n",
    "        print('Simple Interest of SBI bank on Rs.{} is Rs.{}'.format(amount, S_I))\n",
    "        \n",
    "    \n",
    "# Child class icici inheriting methods of Parent class bank and abstract class rbi        \n",
    "class icici(rbi,bank):\n",
    "    \n",
    "    def interest(self,amount,rate,time):\n",
    "        S_I = (amount*rate*time)/100\n",
    "        print('Simple Interest of ICICI bank on Rs.{} is Rs.{}'.format(amount, S_I))\n",
    "\n",
    "# Child class hdfc inheriting methods of Parent class bank and abstract class rbi\n",
    "class hdfc(rbi,bank):\n",
    "    \n",
    "    def interest(self,amount,rate,time):\n",
    "        S_I = (amount*rate*time)/100\n",
    "        print('Simple Interest of HDFC bank on Rs.{} is Rs.{}'.format(amount, S_I))\n",
    "\n",
    "# Child class overseas inheriting methods of Parent class bank and abstract class rbi\n",
    "class overseas(rbi,bank):\n",
    "    \n",
    "    def interest(self,amount,rate,time):\n",
    "        S_I = (amount*rate*time)/100\n",
    "        print('Simple Interest of OVERSEAS bank on Rs.{} is Rs.{}'.format(amount, S_I))\n",
    "   \n",
    "\n",
    "# creating object of sbi class\n",
    "s = sbi()\n",
    "s.interest(4000,0.5,2)\n",
    "s.maintainence_fee('SBI')\n",
    "\n",
    "# creating object of icici class\n",
    "i = icici()\n",
    "i.interest(2000,0.9,2)\n",
    "i.maintainence_fee('ICICI')\n",
    "\n",
    "# creating object of hdfc class\n",
    "h = hdfc()\n",
    "h.interest(5000,0.3,2)\n",
    "h.maintainence_fee('HDFC')\n",
    "\n",
    "# creating object of overseas class\n",
    "o = overseas()\n",
    "o.interest(8000,0.5,2)\n",
    "o.maintainence_fee('OVERSEAS')"
   ]
  },
  {
   "cell_type": "markdown",
   "id": "5d672c75",
   "metadata": {},
   "source": [
    "# Example 2.3- using Decorator "
   ]
  },
  {
   "cell_type": "code",
   "execution_count": 179,
   "id": "79ba70ae",
   "metadata": {},
   "outputs": [
    {
     "name": "stdout",
     "output_type": "stream",
     "text": [
      "we cannot divide 10 with 0\n"
     ]
    }
   ],
   "source": [
    "def div(func):\n",
    "    def inner(a,b):\n",
    "        if b==0:\n",
    "            print(\"we cannot divide\", a, \"with\", b)\n",
    "        else:\n",
    "            func(a,b)\n",
    "    return inner\n",
    "\n",
    "@div\n",
    "def division(a,b):\n",
    "    print(a/b)\n",
    "    \n",
    "a = 10\n",
    "b = 0\n",
    "\n",
    "division(a,b)"
   ]
  },
  {
   "cell_type": "code",
   "execution_count": null,
   "id": "e1bbda63",
   "metadata": {},
   "outputs": [],
   "source": []
  }
 ],
 "metadata": {
  "kernelspec": {
   "display_name": "Python 3 (ipykernel)",
   "language": "python",
   "name": "python3"
  },
  "language_info": {
   "codemirror_mode": {
    "name": "ipython",
    "version": 3
   },
   "file_extension": ".py",
   "mimetype": "text/x-python",
   "name": "python",
   "nbconvert_exporter": "python",
   "pygments_lexer": "ipython3",
   "version": "3.9.7"
  }
 },
 "nbformat": 4,
 "nbformat_minor": 5
}
